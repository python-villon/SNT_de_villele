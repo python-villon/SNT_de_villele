{
 "cells": [
  {
   "cell_type": "markdown",
   "metadata": {},
   "source": [
    "## Ce notebook vous donne les éléments de code python associés au document  \"Fonctionnement d'un appareil photo numérique : codage des couleurs\".\n",
    "\n",
    "Un notebook se lit de haut en bas. Toutes les cellules de code doivent être exécutées :\n",
    "- soit en cliquant sur le bouton \"Exécuter\" dans la barre d'outil\n",
    "- soit au clavier en tapant sur les touches MAJ + ENTREE  \n",
    "\n",
    "\n",
    "Pour récupérer votre travail sur votre ordinateur : menu File > Download As > Notebook (.ipynb)\n",
    "\n"
   ]
  },
  {
   "cell_type": "markdown",
   "metadata": {},
   "source": [
    "# I : Codage d'une image en niveaux de gris"
   ]
  },
  {
   "cell_type": "markdown",
   "metadata": {},
   "source": [
    "## 1 : codage en niveaux de gris\n",
    "\n",
    "Une image en niveau de gris est une image dont les couleurs varient du blanc au noir.\n",
    "Chaque pixel est codé par le niveau de l’intensité lumineuse, souvent sur 8 bits ce qui donne 28 = 256 nuances de gris possibles, codées sur un nombre entier compris entre 0 et 255.\n",
    "La valeur 0 correspond à une intensité lumineuse nulle, le noir, tandis que la valeur 255 représente l’intensité lumineuse maximale, le blanc.\n",
    "\n",
    "\n",
    "Voici quelques instructions permettant de créer une image en niveaux de gris (mode `\"L\"`), avec une définition de 20 pixels de large et de 20 pixels de haut (dimensions `(20, 20)`) et une teinte en niveaux de gris égale à 100 (`100`) :\n"
   ]
  },
  {
   "cell_type": "code",
   "execution_count": null,
   "metadata": {},
   "outputs": [],
   "source": [
    "from utilitaires_images import *\n",
    "carre = Image.new(\"L\", (20, 20), 100)\n",
    "display(carre)"
   ]
  },
  {
   "cell_type": "markdown",
   "metadata": {},
   "source": [
    "Et quelques instructions pour créer une image en niveaux de gris avec trois pixels plus foncés que les autres (rappelons que pour l'instruction `putpixel`, l'axe `y` **va de haut en bas**):"
   ]
  },
  {
   "cell_type": "code",
   "execution_count": null,
   "metadata": {},
   "outputs": [],
   "source": [
    "from utilitaires_images import *\n",
    "rectangle = Image.new(\"L\", (15, 10), 200)\n",
    "rectangle.putpixel((2, 8), 50)    #pixel en x = 2 et y = 8\n",
    "rectangle.putpixel((4, 8), 50)    #pixel en x = 4 et y = 8\n",
    "rectangle.putpixel((12, 0), 50)   #pixel en x = 12 et y = 0\n",
    "\n",
    "rectangle_agrandi = zoomer(rectangle, 5)              #on fait un zoom x 5\n",
    "display(rectangle_agrandi)"
   ]
  },
  {
   "cell_type": "markdown",
   "metadata": {},
   "source": [
    "<div class = \"alert alert-info\">\n",
    "\n",
    "### Question 1\n",
    "\n",
    "Faites une séquence d'instructions qui permet d’afficher un rectangle de définition 20 x 10 de couleur noire :\n",
    "\n"
   ]
  },
  {
   "cell_type": "code",
   "execution_count": null,
   "metadata": {},
   "outputs": [],
   "source": [
    "# code pour rectangle noir à saisir ici\n"
   ]
  },
  {
   "cell_type": "markdown",
   "metadata": {},
   "source": [
    "<div class = \"alert alert-info\">\n",
    "\n",
    "### Question 2\n",
    "\n",
    "Faites une séquence d'instructions qui permet d’afficher un rectangle de définition 200 x 70 de couleur blanche :\n",
    "\n"
   ]
  },
  {
   "cell_type": "code",
   "execution_count": null,
   "metadata": {},
   "outputs": [],
   "source": [
    "# code pour rectangle blanc à saisir ici\n"
   ]
  },
  {
   "cell_type": "markdown",
   "metadata": {},
   "source": [
    "<div class = \"alert alert-info\">\n",
    "\n",
    "### Question 3\n",
    "\n",
    "Faites une séquence d'instructions qui permet d’afficher un rectangle de définition 10 x 10 de couleur grise avec un pixel noir dans chacun des quatres coins.  \n",
    "\n",
    "**Attention :** les coordonées vont de 0 à 9 et pas de 1 à 10 "
   ]
  },
  {
   "cell_type": "code",
   "execution_count": null,
   "metadata": {},
   "outputs": [],
   "source": [
    "# code pour rectangle gris avec coins noirs à saisir ici\n"
   ]
  },
  {
   "cell_type": "markdown",
   "metadata": {},
   "source": [
    "## 2 : codage en couleur\n",
    "\n",
    "La couleur d’un pixel est représentée par trois valeurs : celle du rouge (R), celle du vert (V) et celle du bleu (B) qui la composent.\n",
    "Il faut imaginer que l’on règle l’intensité de trois sources lumineuses rouge, verte et bleue qui se mélangent pour donner la couleur résultante. \n",
    "\n",
    "L’intensité de chacune des trois couches est codée sur 8 bits ce qui nous donne un codage de 0 à 255.\n",
    "\n",
    "Comme pour le noir et blanc, pour chacune des couches, plus le code est proche de zéro moins vous envoyez de lumière et plus le code est proche de 255 plus vous envoyez de lumière.\n",
    "\n",
    "Ce format de couleur n’est pas évident car l’aspect de la couleur résultante est parfois difficile à anticiper. On trouve néanmoins sur internet pléthore de convertisseurs RGB : https://www.toutes-les-couleurs.com/code-couleur-rvb.php"
   ]
  },
  {
   "cell_type": "markdown",
   "metadata": {},
   "source": [
    "<div class = \"alert alert-info\">\n",
    "\n",
    "### Question 4\n",
    "\n",
    "Les 3 valeurs RGB (0 à 255, 0 à 255, 0 à 255) permettent donc de coder une énorme variété de teintes. Combien ?"
   ]
  },
  {
   "cell_type": "code",
   "execution_count": null,
   "metadata": {},
   "outputs": [],
   "source": [
    "# Ecrivez le calcul à effectuer ici \n",
    "# (et demandez à Python de vous fournir le résultat !)\n",
    "\n",
    "\n",
    "\n"
   ]
  },
  {
   "cell_type": "markdown",
   "metadata": {},
   "source": [
    "<div class = \"alert alert-info\">\n",
    "\n",
    "### Question 5\n",
    "\n",
    "Lorsqu'on exécute le code ci-dessous on obtient :\n",
    "    \n",
    "- rouge, vert, bleu sur la première ligne, \n",
    "- un dégradé violet-bleu sur la seconde ligne,\n",
    "- et un jaune, turquoise, rose sur la troisième ligne.\n",
    "    \n",
    "Modifier le code pour obtenir un dégradé rouge-rose sur la première ligne et un dégradé vert-turquoise sur la troisième ligne  "
   ]
  },
  {
   "cell_type": "code",
   "execution_count": null,
   "metadata": {},
   "outputs": [],
   "source": [
    "from utilitaires_images import *\n",
    "\n",
    "img = Image.new(\"RGB\",(3, 3)) \n",
    "img.putpixel((0,0),(255,0,0))      #rouge pur\n",
    "img.putpixel((1,0),(0,255,0))      #vert pur\n",
    "img.putpixel((2,0),(0,0,255))      #bleu pur \n",
    "\n",
    "img.putpixel((0,1),(150,50,233))    # en diminuant le rouge au fur et a mesure \n",
    "img.putpixel((1,1),(75, 50,233))    # on passe du violet au bleu\n",
    "img.putpixel((2,1),(10, 50,233))\n",
    "\n",
    "img.putpixel((0,2),(255,255,0))    #jaune\n",
    "img.putpixel((1,2),(0,255,255))    #turquoise\n",
    "img.putpixel((2,2),(255,0,255))    #rose\n",
    "\n",
    "img.save(\".\\exemple_1.jpg\")\n",
    "img_zoom = zoomer(img, 40) #on zoome l'image 40 fois car 3 x 3 pixels c'est petit !\n",
    "display(img)\n",
    "display(img_zoom)"
   ]
  },
  {
   "cell_type": "markdown",
   "metadata": {},
   "source": [
    "<div class = \"alert alert-info\">\n",
    "\n",
    "### Question 7\n",
    "\n",
    "En retournant voir si besoin le notebook reprenant les exemples de cours, réalisez les instructions permettant :\n",
    "- \td’ouvrir l'image `/images/moustique.jpg`;\n",
    "- \tde connaitre son format ;\n",
    "- \tde connaitre son mode ;\n",
    "- \tde connaitre sa taille ;\n",
    "- \tde connaitre le code couleur de 3 pixels de votre choix ;\n",
    "- \td’afficher l’image.\n"
   ]
  },
  {
   "cell_type": "code",
   "execution_count": null,
   "metadata": {},
   "outputs": [],
   "source": [
    "# code pour ouverture de moustique.jpg à écrire ici\n"
   ]
  },
  {
   "cell_type": "code",
   "execution_count": null,
   "metadata": {},
   "outputs": [],
   "source": [
    "# code pour format\n"
   ]
  },
  {
   "cell_type": "code",
   "execution_count": null,
   "metadata": {},
   "outputs": [],
   "source": [
    "# code pour mode\n"
   ]
  },
  {
   "cell_type": "code",
   "execution_count": null,
   "metadata": {},
   "outputs": [],
   "source": [
    "# code pour taille\n"
   ]
  },
  {
   "cell_type": "code",
   "execution_count": null,
   "metadata": {},
   "outputs": [],
   "source": [
    "# code pour pixel 1\n"
   ]
  },
  {
   "cell_type": "code",
   "execution_count": null,
   "metadata": {},
   "outputs": [],
   "source": [
    "# code pour pixel 2\n"
   ]
  },
  {
   "cell_type": "code",
   "execution_count": null,
   "metadata": {},
   "outputs": [],
   "source": [
    "# code pour pixel 3\n"
   ]
  },
  {
   "cell_type": "code",
   "execution_count": null,
   "metadata": {},
   "outputs": [],
   "source": [
    "# code pour afficher l'image\n"
   ]
  }
 ],
 "metadata": {
  "kernelspec": {
   "display_name": "Python 3",
   "language": "python",
   "name": "python3"
  },
  "language_info": {
   "codemirror_mode": {
    "name": "ipython",
    "version": 3
   },
   "file_extension": ".py",
   "mimetype": "text/x-python",
   "name": "python",
   "nbconvert_exporter": "python",
   "pygments_lexer": "ipython3",
   "version": "3.8.2"
  }
 },
 "nbformat": 4,
 "nbformat_minor": 4
}

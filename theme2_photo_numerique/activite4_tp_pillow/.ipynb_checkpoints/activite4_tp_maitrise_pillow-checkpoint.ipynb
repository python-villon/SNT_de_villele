{
 "cells": [
  {
   "cell_type": "markdown",
   "metadata": {},
   "source": [
    "Un notebook se lit de haut en bas. Toutes les cellules de code doivent être exécutées :\n",
    "- soit en cliquant sur le bouton \"Exécuter\" dans la barre d'outil\n",
    "- soit au clavier en tapant sur les touches MAJ + ENTREE  \n",
    "\n",
    "\n",
    "Pour récupérer votre travail sur votre ordinateur : menu File > Download As > Notebook (.ipynb)\n",
    "\n",
    "Ce notebook a pour objectif de vous faire découvrir comment on peut créer / modifier des images via Python. Dans les logiciels de retouche d'images, ce sont ces techniques qui sont utilisées."
   ]
  },
  {
   "cell_type": "markdown",
   "metadata": {},
   "source": [
    "# Rappels\n",
    "\n",
    "### 1 : Importer les modules de traitement et d'affichage d'image"
   ]
  },
  {
   "cell_type": "code",
   "execution_count": null,
   "metadata": {},
   "outputs": [],
   "source": [
    "from utilitaires_images import *"
   ]
  },
  {
   "cell_type": "markdown",
   "metadata": {},
   "source": [
    "### 2 : Ouvrir puis afficher une image présente dans le dossier `./images/`"
   ]
  },
  {
   "cell_type": "markdown",
   "metadata": {},
   "source": [
    "<div class = \"alert alert-warning\">\n",
    "\n",
    "`Image.open(chemin/d/acces/au/fichier)`  \n",
    "\n",
    "puis\n",
    "    \n",
    "`display(nom_de_l_image)`"
   ]
  },
  {
   "cell_type": "code",
   "execution_count": null,
   "metadata": {},
   "outputs": [],
   "source": [
    "image1 = Image.open('./images/brest_1960.jpg')\n",
    "display(image1)"
   ]
  },
  {
   "cell_type": "markdown",
   "metadata": {},
   "source": [
    "### 3 : Ouvrir puis afficher une image en l'agrandissant"
   ]
  },
  {
   "cell_type": "markdown",
   "metadata": {},
   "source": [
    "<div class = \"alert alert-warning\">\n",
    "\n",
    "On remplace :  \n",
    "    \n",
    "`display(nom_de_l_image)`  \n",
    "    \n",
    "par :\n",
    "\n",
    "`image_z = zoomer(nom_de_l_image, facteur_de_zoom)`  \n",
    "`display(image_z)`  "
   ]
  },
  {
   "cell_type": "markdown",
   "metadata": {},
   "source": [
    "Pour zoomer trois fois :"
   ]
  },
  {
   "cell_type": "code",
   "execution_count": null,
   "metadata": {},
   "outputs": [],
   "source": [
    "image1 = Image.open('./images/brest_1960.jpg')\n",
    "image1_z = zoomer(image1, 3)\n",
    "display(image1_z)"
   ]
  },
  {
   "cell_type": "markdown",
   "metadata": {},
   "source": [
    "### 4 : Créer une nouvelle image monochrome puis afficher cette image"
   ]
  },
  {
   "cell_type": "markdown",
   "metadata": {},
   "source": [
    "<div class = \"alert alert-warning\">\n",
    "\n",
    "`Image.new(mode, taille, couleur)`  \n",
    "\n",
    "- mode : `\"RGB\"` pour une image en couleur, (`\"L\"` pour une image en noir et blanc) \n",
    "\n",
    "- taille : `(333, 222)` pour une image de 333 pixels de large et 222 pixels de haut  \n",
    "\n",
    "- couleur : `(0, 255, 128)` pour une couleur avec 0 de Rouge, 255 de vert (100%) et 128 de bleu (50%) en RGB\n",
    "    "
   ]
  },
  {
   "cell_type": "code",
   "execution_count": null,
   "metadata": {},
   "outputs": [],
   "source": [
    "image2 = Image.new(\"RGB\", (333, 222), (0, 255, 128))\n",
    "display(image2)"
   ]
  },
  {
   "cell_type": "markdown",
   "metadata": {},
   "source": [
    "### 5 : Questions"
   ]
  },
  {
   "cell_type": "markdown",
   "metadata": {},
   "source": [
    "<div class = \"alert alert-info\">  \n",
    "\n",
    "**Question 1 :** \n",
    "    \n",
    "En modifiant le code ci-dessous, créez puis affichez une image de 299 pixels par 199 pixels de couleur jaune (Rouge + Vert)."
   ]
  },
  {
   "cell_type": "code",
   "execution_count": null,
   "metadata": {},
   "outputs": [],
   "source": [
    "image3 = Image.new(\"RGB\", (333, 222), (0, 255, 128))\n",
    "display(image2)"
   ]
  },
  {
   "cell_type": "markdown",
   "metadata": {},
   "source": [
    "<div class = \"alert alert-info\">  \n",
    "\n",
    "**Question 2 :** \n",
    "    \n",
    "En modifiant le code ci-dessous, créez puis affichez une image de 6 pixels par 3 pixels de couleur rose (Rouge + Bleu). Attention c'est tout petit, donc vous ne verrez pas grand chose !"
   ]
  },
  {
   "cell_type": "code",
   "execution_count": null,
   "metadata": {},
   "outputs": [],
   "source": [
    "image4 = Image.new(\"RGB\", (333, 222), (0, 255, 128))\n",
    "display(image2)"
   ]
  },
  {
   "cell_type": "markdown",
   "metadata": {},
   "source": [
    "<div class = \"alert alert-info\">  \n",
    "\n",
    "**Question 3 :** \n",
    "    \n",
    "Affichez l'image ci-dessus en la zoomant 40 fois."
   ]
  },
  {
   "cell_type": "code",
   "execution_count": null,
   "metadata": {},
   "outputs": [],
   "source": [
    "# code à compléter ici\n"
   ]
  },
  {
   "cell_type": "markdown",
   "metadata": {},
   "source": [
    "# Ecrire ou lire des pixels uns par uns sur une image"
   ]
  },
  {
   "cell_type": "markdown",
   "metadata": {},
   "source": [
    "###  1 : Créer une nouvelle image puis y écrire des pixels et afficher le résultat"
   ]
  },
  {
   "cell_type": "markdown",
   "metadata": {},
   "source": [
    "<div class = \"alert alert-warning\">\n",
    "\n",
    "`Image.new(mode, taille, couleur)`  comme avant puis on demande à l'image créée de modifier ses pixels :\n",
    "    \n",
    "`mon_image.putpixel((x, y), couleur)`\n",
    " \n",
    "- `x` : coordonnée horizontale du pixel (0 tout à gauche, axe vers la droite)\n",
    "    \n",
    "- `y` : coordonnée verticale du pixe (0 en haut, axe vers le bas)\n",
    "    \n",
    "- `couleur` : comme avant avec les composantes rouge, vert et bleu entre 0 et 255."
   ]
  },
  {
   "cell_type": "code",
   "execution_count": null,
   "metadata": {},
   "outputs": [],
   "source": [
    "image5 = Image.new(\"RGB\", (7, 4), (0, 0, 0))#image noire au début\n",
    "\n",
    "image5.putpixel((0,0), (255, 0, 0)) #on met un pixel rouge en haut à gauche\n",
    "image5.putpixel((6, 3), (0, 0, 255)) #on met un pixel bleu en bas à droite\n",
    "image5.putpixel((6, 0), (0, 255, 0)) #on met un pixel vert en haut à droite\n",
    "image5.putpixel((2, 3), (255, 255, 0)) #on met un pixel jaune vers le bas\n",
    "\n",
    "display(image5)   #va être tout petit !"
   ]
  },
  {
   "cell_type": "code",
   "execution_count": null,
   "metadata": {},
   "outputs": [],
   "source": [
    "image5_z = zoomer(image5, 40)\n",
    "display(image5_z, 40) #en agrandissant 40 fois c'est beaucoup mieux !"
   ]
  },
  {
   "cell_type": "markdown",
   "metadata": {},
   "source": [
    "<div class = \"alert alert-info\">  \n",
    "\n",
    "**Question 4 :** \n",
    "    \n",
    "Vous devez créer un petit [pixel-art](https://www.qwant.com/?q=pixel%20art&t=images) d'au moins 7 pixels par 7 pixels en modifiant le code ci-dessous."
   ]
  },
  {
   "cell_type": "code",
   "execution_count": null,
   "metadata": {},
   "outputs": [],
   "source": [
    "image5 = Image.new(\"RGB\", (7, 7), (0, 0, 0))#image noire au début\n",
    "\n",
    "image5.putpixel((0,0), (255, 0, 0)) #on met un pixel rouge en haut à gauche\n",
    "image5.putpixel((6, 3), (0, 0, 255)) #on met un pixel bleu en bas à droite\n",
    "image5.putpixel((6, 0), (0, 255, 0)) #on met un pixel vert en haut à droite\n",
    "image5.putpixel((2, 3), (255, 255, 0)) #on met un pixel jaune vers le bas\n",
    "\n",
    "image5_z = zoomer(image5, 40)\n",
    "display(image5_z, 40) #en agrandissant 40 fois c'est beaucoup mieux !"
   ]
  },
  {
   "cell_type": "markdown",
   "metadata": {},
   "source": [
    "### 2 : Ouvrir une image et lire les valeurs de certains pixels"
   ]
  },
  {
   "cell_type": "markdown",
   "metadata": {},
   "source": [
    "<div class = \"alert alert-warning\">\n",
    "\n",
    "`Image.open(mode, chemin/d/acces/au/fichier)`  comme avant puis on demande à lire des pixels :\n",
    "    \n",
    "`mon_image.getpixel((x, y))`\n",
    " \n",
    "- `x` : coordonnée horizontale du pixel (0 tout à gauche, axe vers la droite)\n",
    "    \n",
    "- `y` : coordonnée verticale du pixe (0 en haut, axe vers le bas)"
   ]
  },
  {
   "cell_type": "code",
   "execution_count": null,
   "metadata": {},
   "outputs": [],
   "source": [
    "image6 = Image.open('./images/kawaii.jpg') \n",
    "display(image6)\n",
    "\n",
    "R, V, B = image6.getpixel((0,0)) #pixel en haut à gauche : rose clair (du R, du V, et du B mais moins du vert)\n",
    "print(R, V, B)"
   ]
  },
  {
   "cell_type": "code",
   "execution_count": null,
   "metadata": {},
   "outputs": [],
   "source": [
    "R, V, B = image6.getpixel((80, 80)) #pixel dans l'oeil = noir = presque 0 de R, 0 de V et 0 de B\n",
    "print(\"les composantes rouge, verte et bleue sont :\")\n",
    "print(R, V, B)"
   ]
  },
  {
   "cell_type": "code",
   "execution_count": null,
   "metadata": {},
   "outputs": [],
   "source": [
    "R, V, B = image6.getpixel((85, 85)) #pixel dans le vert de l'oeil = presque que du V\n",
    "print(\"les composantes rouge, verte et bleue sont :\")\n",
    "print(R, V, B)"
   ]
  },
  {
   "cell_type": "markdown",
   "metadata": {},
   "source": [
    "### 3 : Effectuer des opérations pixel par pixel sur une grande zone"
   ]
  },
  {
   "cell_type": "markdown",
   "metadata": {},
   "source": [
    "<div class = \"alert alert-warning\">\n",
    "\n",
    "\n",
    "Jusque là on a travaillé en pixel par pixel : c'est bien gentil mais si on veut traiter une \"petite\" image de 400x300 pixels cela risque de prendre du temps (120 000 pixels tout de même).\n",
    "\n",
    "On peut utiliser la méthode suivante qui permet de parcourir une zone rectangulaire de pixels grâce à des boucles `for` (mais si, votre enseignant de maths vous en a forcément parlé) :\n",
    "\n",
    "```\n",
    "for x in range(xgauche, xdroit):\n",
    "    for y in range(yhaut, ybas):\n",
    "        faire ceci, cela sur le pixel de coordonnées (x, y)\n",
    "```\n",
    "\n",
    "qui peut se lire comme :\n",
    "\n",
    "```\n",
    "Pour chaque pixel(x, y) dans le rectangle compris entre xgauche et xdroit et entre yhaut et ybas:\n",
    "    faire ceci, cela sur le pixel de coordonnées (x, y)\n",
    "```\n",
    "\n"
   ]
  },
  {
   "cell_type": "markdown",
   "metadata": {},
   "source": [
    "<div class = \"alert alert-warning\">\n",
    "\n",
    "\n",
    "### Exemple 1\n",
    "\n",
    "```\n",
    "Pour chaque pixel dans le rectangle compris entre x = 50 et x = 450 et entre y = 212 et y = 231:\n",
    "    colorier le pixel en rose\n",
    "```"
   ]
  },
  {
   "cell_type": "code",
   "execution_count": null,
   "metadata": {},
   "outputs": [],
   "source": [
    "image7 = Image.new('RGB', (500, 300), (0, 0, 0))\n",
    "\n",
    "for x in range(50, 450):\n",
    "    for y in range(212, 231):\n",
    "        image7.putpixel((x,y), (255, 0, 255))\n",
    "        \n",
    "display(image7)"
   ]
  },
  {
   "cell_type": "markdown",
   "metadata": {},
   "source": [
    "<div class = \"alert alert-warning\">\n",
    "\n",
    "\n",
    "\n",
    "### Exemple 2\n",
    "\n",
    "```\n",
    "Pour chaque pixel(x, y) dans le rectangle compris entre x = 0 et x = largeur de l'image \n",
    "                                                    et entre y = 0 et y = largeur de l'image:\n",
    "    lire la valeur R, V, B du pixel(x, y)\n",
    "    inverser le R et le V\n",
    "```"
   ]
  },
  {
   "cell_type": "code",
   "execution_count": null,
   "metadata": {},
   "outputs": [],
   "source": [
    "image9 = Image.open('./images/kawaii.jpg')\n",
    "\n",
    "for x in range(0, image9.width):\n",
    "    for y in range(0, image9.height):\n",
    "        R, V, B = image9.getpixel((x,y))  # on lit R, V, B\n",
    "        image9.putpixel((x,y), (V, R, B)) # on écrit V, R, B\n",
    "        \n",
    "display(image9)"
   ]
  },
  {
   "cell_type": "markdown",
   "metadata": {},
   "source": [
    "<div class = \"alert alert-warning\">\n",
    "\n",
    "\n",
    "### Exemple 3\n",
    "\n",
    "```\n",
    "Pour chaque pixel(x, y) dans le rectangle compris entre x = 0 et x = 255 et entre y = 0 et y = 255:\n",
    "    colorier le pixel(x, y) avec un dégradé où le rouge est proportionnel à x et le bleu à y\n",
    "```"
   ]
  },
  {
   "cell_type": "code",
   "execution_count": null,
   "metadata": {},
   "outputs": [],
   "source": [
    "image9 = Image.new('RGB', (256, 256), (0, 0, 0))\n",
    "\n",
    "for x in range(0, 256):\n",
    "    for y in range(0, 256):\n",
    "        image9.putpixel((x,y), (x, 0, y))\n",
    "        \n",
    "display(image9)"
   ]
  },
  {
   "cell_type": "markdown",
   "metadata": {},
   "source": [
    "<div class = \"alert alert-info\">\n",
    "\n",
    "#### Question 5 :\n",
    "\n",
    "En utilisant les double-boucles, écrire le code permettant de générer le drapeau français puis le drapeau suisse."
   ]
  },
  {
   "cell_type": "code",
   "execution_count": null,
   "metadata": {},
   "outputs": [],
   "source": [
    "# code pour le drapeau français\n",
    "drapeau_francais = Image.new(\"RGB\", (300, 200), (255, 0, 0))\n",
    "\n",
    "\n",
    "\n",
    "\n"
   ]
  },
  {
   "cell_type": "code",
   "execution_count": null,
   "metadata": {},
   "outputs": [],
   "source": [
    "# code pour le drapeau suisse\n",
    "drapeau_suisse = Image.new(\"RGB\", (300, 200), (255, 0, 0))\n",
    "\n",
    "\n",
    "\n"
   ]
  },
  {
   "cell_type": "markdown",
   "metadata": {},
   "source": [
    "<div class = \"alert alert-info\">  \n",
    "\n",
    "    \n",
    "#### Evaluation :\n",
    "    \n",
    "En vous inspirant de ce qui précède, créez un dessin sur une image de taille correcte. Vous pouvez fair eun dessin à base de rectangles, créer des effets sur une image de départ, faire une mosaique de dégradés, faire un gros pixel art ...  \n",
    "    \n",
    "    \n",
    "Vous êtes donc LIBRE de faire ce que vous voulez, la seule contrainte étant d'utiliser au moins une opération pixel par pixel sur une grande zone (prenez cela comme un travail d'arts-plastiques ou seul l'outil est imposé).\n",
    "    \n",
    "    \n",
    "Si besoin, vous pouvez facilement prendre comme point de départ une image trouvée sur le web en faisant Clic droit : copier l'adresse de l'image (image libre de droit, merci :-). Puis vous copiez l'adresse de l'image comme dans l'exemple ci-dessous :"
   ]
  },
  {
   "cell_type": "code",
   "execution_count": null,
   "metadata": {},
   "outputs": [],
   "source": [
    "image10 = ouvrir_image_par_url(\"https://cdn.pixabay.com/photo/2017/10/16/08/53/cat-2856531_960_720.jpg\")"
   ]
  },
  {
   "cell_type": "code",
   "execution_count": null,
   "metadata": {},
   "outputs": [],
   "source": [
    "display(image10)"
   ]
  },
  {
   "cell_type": "code",
   "execution_count": null,
   "metadata": {},
   "outputs": [],
   "source": [
    "# Vous"
   ]
  },
  {
   "cell_type": "code",
   "execution_count": null,
   "metadata": {},
   "outputs": [],
   "source": [
    "# pouvez"
   ]
  },
  {
   "cell_type": "code",
   "execution_count": null,
   "metadata": {},
   "outputs": [],
   "source": [
    "# coder"
   ]
  },
  {
   "cell_type": "code",
   "execution_count": null,
   "metadata": {},
   "outputs": [],
   "source": [
    "# ici"
   ]
  },
  {
   "cell_type": "code",
   "execution_count": null,
   "metadata": {},
   "outputs": [],
   "source": [
    "# :-)"
   ]
  }
 ],
 "metadata": {
  "kernelspec": {
   "display_name": "Python 3",
   "language": "python",
   "name": "python3"
  },
  "language_info": {
   "codemirror_mode": {
    "name": "ipython",
    "version": 3
   },
   "file_extension": ".py",
   "mimetype": "text/x-python",
   "name": "python",
   "nbconvert_exporter": "python",
   "pygments_lexer": "ipython3",
   "version": "3.8.2"
  }
 },
 "nbformat": 4,
 "nbformat_minor": 4
}

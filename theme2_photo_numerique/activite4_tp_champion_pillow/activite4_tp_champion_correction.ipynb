{
 "cells": [
  {
   "cell_type": "markdown",
   "metadata": {},
   "source": [
    "# Activité 5 Principes de quelques algorithmes basiques de traitement de l'image #"
   ]
  },
  {
   "cell_type": "markdown",
   "metadata": {},
   "source": [
    "## Ce notebook vous donne les éléments de code python associés au document  \"Fonctionnement d'un appareil photo numérique : codage des couleurs\".\n",
    "\n",
    "Un notebook se lit de haut en bas. Toutes les cellules de code doivent être exécutées :\n",
    "- soit en cliquant sur le bouton \"Exécuter\" dans la barre d'outil\n",
    "- soit au clavier en tapant sur les touches MAJ + ENTREE  \n",
    "\n",
    "\n",
    "Pour récupérer votre travail sur votre ordinateur : menu File > Download As > Notebook (.ipynb)"
   ]
  },
  {
   "cell_type": "markdown",
   "metadata": {},
   "source": [
    "## 1. Modifier la couleur d'un pixel\n",
    "Executer le code ci-dessous"
   ]
  },
  {
   "cell_type": "code",
   "execution_count": null,
   "metadata": {},
   "outputs": [],
   "source": [
    "from IPython.display import Image\n",
    "from PIL import Image\n",
    "pomme=Image.open(\"./images/Pomme_verte.jpg\")\n",
    "format=pomme.format\n",
    "print(format)\n",
    "L,l=pomme.size\n",
    "print(\"Longueur=\",L,\"pixels\",\"largeur=\",l,\"pixels\")\n",
    "#display(img)\n",
    "r,v,b=pomme.getpixel((200,200))\n",
    "print (\"pixel rouge \",r,\"pixel vert\",v,\"pixel bleu\",b)"
   ]
  },
  {
   "cell_type": "markdown",
   "metadata": {},
   "source": [
    "<div class = \"alert alert-info\">\n",
    "    \n",
    "**Question 1 :**\n",
    "\n",
    "Compléter le code pour afficher la valeur du canal vert du pixel de coordonnées (100,100)\n",
    "   "
   ]
  },
  {
   "cell_type": "code",
   "execution_count": null,
   "metadata": {},
   "outputs": [],
   "source": [
    "#écrire le code en dessous de cette ligne\n",
    "from IPython.display import Image\n",
    "from PIL import Image\n",
    "pomme=Image.open(\"./images/Pomme_verte.jpg\")\n",
    "r,v,b=pomme.getpixel((100,100))\n",
    "print (\"pixel vert\",v)"
   ]
  },
  {
   "cell_type": "markdown",
   "metadata": {},
   "source": [
    "<div class = \"alert alert-info\">\n",
    "    \n",
    "**Question 2 :**\n",
    "\n",
    "Compléter le code ci-dessous pour intervertir les canaux r et b du pixel (200,200) .\n",
    "\n",
    "Afficher l'image avec ```display```\n",
    "\n",
    "Il faut utiliser la méthode ``.putpixel((x,y), couleur)``\n",
    "\n",
    "Remarque : ce n'est pas très visible : il n'y a qu'un pixel !"
   ]
  },
  {
   "cell_type": "code",
   "execution_count": null,
   "metadata": {},
   "outputs": [],
   "source": [
    "#écrire le code en dessous de cette ligne\n",
    "from IPython.display import Image\n",
    "from PIL import Image\n",
    "pomme=Image.open(\"./images/Pomme_verte.jpg\")\n",
    "r,v,b=pomme.getpixel((200,200))\n",
    "pomme.putpixel((200,200),(v,b,r))\n",
    "#display(pomme)"
   ]
  },
  {
   "cell_type": "markdown",
   "metadata": {},
   "source": [
    "## 2. Action sur l'ensemble des pixels d'une image : changer la couleur de la pomme\n",
    "\n",
    "Executer le code  ci-dessous . "
   ]
  },
  {
   "cell_type": "code",
   "execution_count": null,
   "metadata": {},
   "outputs": [],
   "source": [
    "from IPython.display import Image\n",
    "from PIL import Image\n",
    "pomme=Image.open(\"./images/Pomme_verte.jpg\")\n",
    "L,l=pomme.size\n",
    "for y in range(l): \n",
    "    for x in range(L):\n",
    "        r,v,b=pomme.getpixel((x,y))\n",
    "        pomme.putpixel((x,y),(v,b,r))\n",
    "#display(pomme)"
   ]
  },
  {
   "cell_type": "markdown",
   "metadata": {},
   "source": [
    "<div class = \"alert alert-info\">\n",
    "    \n",
    "### question 3-1 : expliquer ce que fait la ligne de code suivante\n",
    "```python\n",
    "for y in range(l): \n",
    "     for x in range(L):\n",
    "```"
   ]
  },
  {
   "cell_type": "markdown",
   "metadata": {},
   "source": [
    "**réponse** :pour les valeurs de y de 0 à l (=hauteur), pour les valeurs de x de 0 à L (largeur)\n"
   ]
  },
  {
   "cell_type": "markdown",
   "metadata": {},
   "source": [
    "<div class = \"alert alert-info\">\n",
    "    \n",
    "### question 3-2 : expliquer ce que fait la ligne de code suivante\n",
    "```python\n",
    "r,v,b=pomme.getpixel((x,y))```"
   ]
  },
  {
   "cell_type": "markdown",
   "metadata": {},
   "source": [
    "  **réponse** : récupérer les couleurs r(rouge), v(vert) et b(bleur) du pixel de coordonnées (x,y)"
   ]
  },
  {
   "cell_type": "markdown",
   "metadata": {},
   "source": [
    "<div class = \"alert alert-info\">\n",
    "\n",
    "### question 3-3 : expliquer ce que fait la ligne de code suivante\n",
    "```python\n",
    " pomme.putpixel((x,y),(v,b,r))```"
   ]
  },
  {
   "cell_type": "markdown",
   "metadata": {},
   "source": [
    "**réponse** : on intervertit les canaux :le canal rouge (première valeur) est remplacé par la valeur du canal vert de l'image de départ , le canal vert (deuxième valeur) est remplacé par le canal bleu et le canal blau (troisième valeur) est remplacé par le canal rouge"
   ]
  },
  {
   "cell_type": "markdown",
   "metadata": {},
   "source": [
    "## 3. Action sur l'ensemble des pixels d'une image: effet négatif d’une image"
   ]
  },
  {
   "cell_type": "markdown",
   "metadata": {},
   "source": [
    "Pour obtenir le négatif d’une image il faut remplacer chacun des canaux par la valeur qu’il faudrait lui ajouter pour atteindre 255. Par exemple si le canal rouge vaut 100, il faut la remplacer par 255-100 soit la valeur 155.\n"
   ]
  },
  {
   "cell_type": "markdown",
   "metadata": {},
   "source": [
    "<div class = \"alert alert-info\">\n",
    "\n",
    "### question 4\n",
    "    \n",
    "Compléter le progamme ci-dessous permettant d'afficher le négatif de l'image de la pomme en s'inspirant du programme de partie 2."
   ]
  },
  {
   "cell_type": "code",
   "execution_count": null,
   "metadata": {},
   "outputs": [],
   "source": [
    "#écrire le code en dessous de cette ligne\n",
    "from IPython.display import Image\n",
    "from PIL import Image\n",
    "pomme=Image.open(\"./images/Pomme_verte.jpg\")\n",
    "L,l=pomme.size\n",
    "for y in range(l): \n",
    "    for x in range(L):\n",
    "        r,v,b=pomme.getpixel((x,y))\n",
    "        r=255-r\n",
    "        v=255-v\n",
    "        b=255-b\n",
    "        pomme.putpixel((x,y),(r,v,b))\n",
    "#display(pomme)"
   ]
  },
  {
   "cell_type": "markdown",
   "metadata": {},
   "source": [
    "## 4 Action sur l'ensemble des pixels d'une image: faire tourner l'image"
   ]
  },
  {
   "cell_type": "markdown",
   "metadata": {},
   "source": [
    "Il s’agit  ici de recalculer à chaque étape les coordonnées de chaque pixel et non d’utiliser la méthode«rotate» intégrée à la bibliothèque PIL. On déplacedonc chaque pixel pour le replacer à un autre endroit. Pour créer la nouvelle , il faut donc créer une nouvelle image avec n'importe quelle fond et y placer les pixels de l'image de départ.\n",
    "\n",
    "Executer le programme suivant"
   ]
  },
  {
   "cell_type": "code",
   "execution_count": null,
   "metadata": {},
   "outputs": [],
   "source": [
    "from IPython.display import Image\n",
    "from PIL import Image\n",
    "image_depart=Image.open(\"./images/moustique.jpg\")\n",
    "image_final=Image.new(image_depart.mode, image_depart.size,255)\n",
    "L,l=image_depart.size\n",
    "for y in range(l):\n",
    "    for x in range(L):\n",
    "        p=image_depart.getpixel((x,y))\n",
    "        image_final.putpixel((x,l-y-1),p)\n",
    "        \n",
    "#display(image_final)"
   ]
  },
  {
   "cell_type": "markdown",
   "metadata": {},
   "source": [
    "<div class = \"alert alert-info\">\n",
    "\n",
    "### question 5\n",
    "\n",
    "En s'inspirant du code précédent , écrire le code permettant de passer de l'image de gauche (image de départ : ./images/moustique.jpg) à l'image de droite\n",
    "\n",
    "![moustique retourne](./images/image-moustique-retourne.png)\n",
    "\n"
   ]
  },
  {
   "cell_type": "code",
   "execution_count": null,
   "metadata": {},
   "outputs": [],
   "source": [
    "from IPython.display import Image\n",
    "from PIL import Image\n",
    "image_depart=Image.open(\"./images/moustique.jpg\")\n",
    "image_final=Image.new(image_depart.mode, image_depart.size,255)\n",
    "L,l=image_depart.size\n",
    "for y in range(l):\n",
    "    for x in range(L):\n",
    "        p=image_depart.getpixel((x,y))\n",
    "        image_final.putpixel((L-x-1,y),p)\n",
    "        \n",
    "display(image_final)"
   ]
  },
  {
   "cell_type": "markdown",
   "metadata": {},
   "source": [
    "## 5. Transformation d'une image couleur en nuance de gris"
   ]
  },
  {
   "cell_type": "markdown",
   "metadata": {},
   "source": [
    "Une image en niveau de gris est une image dont les couleurs varie entre 0 (noir) et 255(blanc). Pour qu’un pixel soit en niveau de gris il doit avoir ses 3 canaux RVB identiques.\n",
    "\n",
    "La première méthode : la valeur corresponde à la moyenne des 3 canaux RVB.\n",
    "Comme la valeur doit être entière, il faut prendre la valeur entière. La fonction python pour trouver la partie entière est ```round()```\n",
    "\n"
   ]
  },
  {
   "cell_type": "markdown",
   "metadata": {},
   "source": [
    "<div class = \"alert alert-info\">\n",
    "\n",
    "### question 6\n",
    "\n",
    "En s'inspirant du programme de la question 4, compléter le  programme ci-dessous permettant d'obtenir l'mage de la pomme en nuance de gris\n",
    "    "
   ]
  },
  {
   "cell_type": "code",
   "execution_count": null,
   "metadata": {},
   "outputs": [],
   "source": [
    "#écrire le code en dessous de cette ligne\n",
    "from IPython.display import Image\n",
    "from PIL import Image\n",
    "pomme=Image.open(\"./images/Pomme_verte.jpg\")\n",
    "L,l=pomme.size\n",
    "for y in range(l): \n",
    "    for x in range(L):\n",
    "        r,v,b=pomme.getpixel((x,y))\n",
    "        r=round((r+v+b)/3)\n",
    "        v=r\n",
    "        b=r\n",
    "        pomme.putpixel((x,y),(r,v,b))\n",
    "display(pomme)"
   ]
  },
  {
   "cell_type": "markdown",
   "metadata": {},
   "source": [
    "## 5. Floutage d'une image en nuance de gris"
   ]
  },
  {
   "cell_type": "markdown",
   "metadata": {},
   "source": [
    "L’algorithme pour flouter une image est assez simple à comprendre : il suffit de remplacer la valeur de chaque couche de chaque pixel par la moyenne des valeurs obtenues sur les pixels adjacents .\n",
    "\n",
    "Voici un exemple illustré (en niveau de gris) avec à gauche l’image de départ et à droite l’image résultante : \n",
    "\n",
    "![exemple de floutage](./images/floutage.png)\n",
    "\n",
    "Dans l'exemple, le pixel au centre du carré rouge (valeur 120), donne une valeur de floutage de 67 (= moyenne du pixel avec les pixels adjacents  =  partie entière (120 (pixel de départ)    + 30 + 60 + 30 + 120 + 120 + 120  + 0 + 0) /9 ).\n",
    "\n",
    "Qu’en est-il pour un pixel appartenant à la bordure de l’image, car il n’a pas tous ses voisins ? La solution la plus simple est d’ignorer ces pixels : on balaye l’image de la deuxième ligne à l’avant-dernière, et pour chaque ligne, de la deuxième colonne à l’avant-dernière. \n",
    "\n",
    "Dans cette question, on travaille avec une image du moustique en nuance de gris moustique.pgm situé dans le même dossier que l'image en jpg (donc le chemin d'accès est le même)."
   ]
  },
  {
   "cell_type": "markdown",
   "metadata": {},
   "source": [
    "<div class = \"alert alert-info\">\n",
    "\n",
    "### question 7\n",
    "\n",
    "Compléter le programme suivant pour afficher l'image floutée du moustique\n"
   ]
  },
  {
   "cell_type": "code",
   "execution_count": null,
   "metadata": {},
   "outputs": [],
   "source": [
    "from IPython.display import Image\n",
    "from PIL import Image\n",
    "image_depart=Image.open(\"./images/moustique.pgm\")\n",
    "image_final=Image.new(image_depart.mode, image_depart.size,100)\n",
    "L,l=image_depart.size\n",
    "\n",
    "for y in range(1,l-1): \n",
    "    for x in range(1,L-1):\n",
    "        pix_depart=image_depart.getpixel((x,y))\n",
    "        pix_voisin1=image_depart.getpixel((x+1,y))\n",
    "        pix_voisin2=image_depart.getpixel((x+1,y-1))\n",
    "        pix_voisin3=image_depart.getpixel((x,y-1))\n",
    "        pix_voisin4=image_depart.getpixel((x-1,y-1))\n",
    "        pix_voisin5=image_depart.getpixel((x-1,y))\n",
    "        pix_voisin6=image_depart.getpixel((x-1,y+1))\n",
    "        pix_voisin7=image_depart.getpixel((x,y+1))\n",
    "        pix_voisin8=image_depart.getpixel((x+1,y+1))\n",
    "        pix_flou=round((pix_depart+pix_voisin1 + pix_voisin2 + pix_voisin3 + pix_voisin4 + pix_voisin5 + pix_voisin6 + pix_voisin7 + pix_voisin8)/9)\n",
    "        image_final.putpixel((x,y),pix_flou)\n",
    "        \n",
    "display(image_depart)\n",
    "display(image_final)                                     \n",
    "                                       \n",
    "    \n",
    "\n"
   ]
  },
  {
   "cell_type": "markdown",
   "metadata": {},
   "source": [
    "## 6. Détection de contour basique"
   ]
  },
  {
   "cell_type": "markdown",
   "metadata": {},
   "source": [
    "Pour la détection de contour il suffit de faire, pour chaque pixel, la valeur de départ moins la valeur obtenue lors du flou (avec une valeur absolue). \n",
    "En effet les zones homogènes  ne sont que peu impactées par le flou. Lorsqu’on fait l’opération valeur absolue(“image de départ ” – “image floutée” ) on obtient donc des niveaux de gris proches de  zéro. \n",
    "\n",
    "A contrario les zones hétérogènes  sont très impactées par le flou.Lorsqu’on fait l’opération valeur absolue(“image de départ ” – “image floutée” ) on obtient des niveaux de gris élevés. \n",
    "\n",
    "On obitiendra donc une image avec des contours plutôt blanc sur un fond pluôt noir \n",
    " "
   ]
  },
  {
   "cell_type": "markdown",
   "metadata": {},
   "source": [
    "<div class = \"alert alert-info\">\n",
    "\n",
    "### question 8\n",
    "\n",
    "Compléter le programme suivant pour avoir un contour\n",
    "La fonction valeur absolue s'écrit ```abs()```"
   ]
  },
  {
   "cell_type": "code",
   "execution_count": null,
   "metadata": {},
   "outputs": [],
   "source": [
    "from IPython.display import Image\n",
    "from PIL import Image\n",
    "image_depart=Image.open(\"./images/moustique.pgm\")\n",
    "image_final=Image.new(image_depart.mode, image_depart.size,100)\n",
    "L,l=image_depart.size\n",
    "for y in range(1,l-1): \n",
    "    for x in range(1,L-1):\n",
    "        pix_depart=image_depart.getpixel((x,y))\n",
    "        pix_voisin1=image_depart.getpixel((x+1,y))\n",
    "        pix_voisin2=image_depart.getpixel((x+1,y-1))\n",
    "        pix_voisin3=image_depart.getpixel((x,y-1))\n",
    "        pix_voisin4=image_depart.getpixel((x-1,y-1))\n",
    "        pix_voisin5=image_depart.getpixel((x-1,y))\n",
    "        pix_voisin6=image_depart.getpixel((x-1,y+1))\n",
    "        pix_voisin7=image_depart.getpixel((x,y+1))\n",
    "        pix_voisin8=image_depart.getpixel((x+1,y+1))\n",
    "        pix_flou=round((pix_depart+pix_voisin1 + pix_voisin2 + pix_voisin3 + pix_voisin4 + pix_voisin5 + pix_voisin6 + pix_voisin7 + pix_voisin8)/9)\n",
    "        pix_final=abs(pix_flou-pix_depart)\n",
    "        image_final.putpixel((x,y),pix_final)\n",
    "        \n",
    "display(image_final)\n"
   ]
  },
  {
   "cell_type": "markdown",
   "metadata": {},
   "source": [
    "## 7. Détection de contour améliorée"
   ]
  },
  {
   "cell_type": "markdown",
   "metadata": {},
   "source": [
    "Pour améliorer le contour, on il faut améliorer le contraste pour avoir une image blanc (=contour) sur fond noir (= le reste). Pour cela, on définit un seuil . Si l'intensité du pixel final (= pixel départ - pixel flou)  est supérieure au seuil, onlui affecte la valeur 255, sinon on affecte la valeur 0"
   ]
  },
  {
   "cell_type": "markdown",
   "metadata": {},
   "source": [
    "<div class = \"alert alert-info\">\n",
    "\n",
    "### question 9\n",
    "\n",
    "Compléter le code"
   ]
  },
  {
   "cell_type": "code",
   "execution_count": null,
   "metadata": {},
   "outputs": [],
   "source": [
    "from IPython.display import Image\n",
    "from IPython.display import Image\n",
    "from PIL import Image\n",
    "image_depart=Image.open(\"./images/moustique.pgm\")\n",
    "image_final=Image.new(image_depart.mode, image_depart.size,100)\n",
    "L,l=image_depart.size\n",
    "for y in range(1,l-1): \n",
    "    for x in range(1,L-1):\n",
    "        pix_depart=image_depart.getpixel((x,y))\n",
    "        pix_voisin1=image_depart.getpixel((x+1,y))\n",
    "        pix_voisin2=image_depart.getpixel((x+1,y-1))\n",
    "        pix_voisin3=image_depart.getpixel((x,y-1))\n",
    "        pix_voisin4=image_depart.getpixel((x-1,y-1))\n",
    "        pix_voisin5=image_depart.getpixel((x-1,y))\n",
    "        pix_voisin6=image_depart.getpixel((x-1,y+1))\n",
    "        pix_voisin7=image_depart.getpixel((x,y+1))\n",
    "        pix_voisin8=image_depart.getpixel((x+1,y+1))\n",
    "        pix_flou=round((pix_depart+pix_voisin1 + pix_voisin2 + pix_voisin3 + pix_voisin4 + pix_voisin5 + pix_voisin6 + pix_voisin7 + pix_voisin8)/9)\n",
    "        pix_final=abs(pix_flou-pix_depart)\n",
    "        seuil = 10\n",
    "        if pix_final >seuil:\n",
    "            image_final.putpixel((x,y),255)\n",
    "        else:\n",
    "            image_final.putpixel((x,y),0)\n",
    "            \n",
    "        \n",
    "display(image_final)\n",
    "           \n",
    "            \n",
    "        \n"
   ]
  },
  {
   "cell_type": "code",
   "execution_count": null,
   "metadata": {},
   "outputs": [],
   "source": []
  }
 ],
 "metadata": {
  "kernelspec": {
   "display_name": "Python 3",
   "language": "python",
   "name": "python3"
  },
  "language_info": {
   "codemirror_mode": {
    "name": "ipython",
    "version": 3
   },
   "file_extension": ".py",
   "mimetype": "text/x-python",
   "name": "python",
   "nbconvert_exporter": "python",
   "pygments_lexer": "ipython3",
   "version": "3.8.2"
  }
 },
 "nbformat": 4,
 "nbformat_minor": 2
}
